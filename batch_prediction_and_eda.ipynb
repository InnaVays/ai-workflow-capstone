{
 "cells": [
  {
   "cell_type": "code",
   "execution_count": null,
   "metadata": {},
   "outputs": [],
   "source": [
    "# Batch Prediction and EDA\n",
    "''' \n",
    "This notebook performs batch predictions using the FastAPI model API and then conducts exploratory data analysis (EDA) \n",
    "on the predictions.\n",
    "'''\n",
    "## Imports and Setup\n",
    "import os\n",
    "import json\n",
    "import requests\n",
    "import pandas as pd\n",
    "import matplotlib.pyplot as plt\n",
    "import seaborn as sns\n",
    "from model.data_ingestion import load_json_files\n",
    "\n",
    "# Define API endpoints\n",
    "TRAIN_API_URL = \"http://localhost:8000/train\"\n",
    "PREDICT_API_URL = \"http://localhost:8000/predict\"\n",
    "\n",
    "# Define data directories\n",
    "TRAIN_DATA_DIR = \"data/cs-train\"\n",
    "PREDICTION_DATA_DIR = \"data/cs-production\"\n",
    "OUTPUT_PREDICTION_FILE = \"batch_predictions.csv\"\n"
   ]
  },
  {
   "cell_type": "markdown",
   "metadata": {},
   "source": [
    "## Train models"
   ]
  },
  {
   "cell_type": "code",
   "execution_count": null,
   "metadata": {},
   "outputs": [],
   "source": [
    "# Function to send training request to the API\n",
    "def train_models():\n",
    "    data = {\n",
    "        \"data_dir\": TRAIN_DATA_DIR,\n",
    "        \"test\": True\n",
    "    }\n",
    "    response = requests.post(TRAIN_API_URL, json=data)\n",
    "    if response.status_code == 200:\n",
    "        print(\"Training completed successfully.\")\n",
    "    else:\n",
    "        print(f\"Training failed: {response.content}\")\n",
    "\n",
    "# Train the models\n",
    "train_models()"
   ]
  },
  {
   "cell_type": "markdown",
   "metadata": {},
   "source": [
    "## Data Ingestion"
   ]
  },
  {
   "cell_type": "code",
   "execution_count": null,
   "metadata": {},
   "outputs": [],
   "source": [
    "# Ingest data from JSON files\n",
    "def ingest_data(data_dir):\n",
    "    df = load_json_files(data_dir)\n",
    "    return df\n",
    "\n",
    "# Ingest prediction data\n",
    "prediction_data = ingest_data(PREDICTION_DATA_DIR)\n",
    "prediction_data.head()"
   ]
  },
  {
   "cell_type": "markdown",
   "metadata": {},
   "source": [
    "## Batch prediction"
   ]
  },
  {
   "cell_type": "code",
   "execution_count": null,
   "metadata": {},
   "outputs": [],
   "source": [
    "# Function to send prediction requests to the API\n",
    "def get_predictions(df):\n",
    "    results = []\n",
    "    for _, invoice in df.iterrows():\n",
    "        date_str = f\"{invoice['year']}-{invoice['month']}-{invoice['day']}\"\n",
    "        \n",
    "        data = {\n",
    "            \"country\": invoice['country'],\n",
    "            \"year\": invoice['year'],\n",
    "            \"month\": invoice['month'],\n",
    "            \"day\": invoice['day'],\n",
    "            \"test\": True\n",
    "        }\n",
    "        response = requests.post(PREDICT_API_URL, json=data)\n",
    "        if response.status_code == 200:\n",
    "            prediction = response.json()\n",
    "            prediction['invoice'] = invoice['invoice']\n",
    "            prediction['country'] = invoice['country']\n",
    "            prediction['total_price'] = invoice['total_price']\n",
    "            prediction['date'] = date_str\n",
    "            results.append(prediction)\n",
    "        else:\n",
    "            print(f\"Failed to get prediction for invoice {invoice['invoice']}: {response.content}\")\n",
    "    \n",
    "    return results\n",
    "\n",
    "# Get predictions\n",
    "all_predictions = get_predictions(prediction_data)\n",
    "\n",
    "# Save the predictions to a DataFrame\n",
    "predictions_df = pd.DataFrame(all_predictions)\n",
    "predictions_df.to_csv(OUTPUT_PREDICTION_FILE, index=False)\n",
    "\n",
    "# Display the predictions DataFrame\n",
    "predictions_df.head()"
   ]
  },
  {
   "cell_type": "code",
   "execution_count": null,
   "metadata": {},
   "outputs": [],
   "source": [
    "# Load predictions data if needed\n",
    "#predictions_df = pd.read_csv(\"batch_predictions.csv\")\n",
    "\n",
    "revenue_by_country = predictions_df[['country', 'total_price']].groupby('country').sum().sort_values('total_price', ascending=False)\n",
    "revenue_by_country = revenue_by_country.rename(columns={'total_price': 'revenue'})\n",
    "revenue_by_country = revenue_by_country.reset_index()\n",
    "revenue_by_country.head()\n",
    "\n",
    "# Display basic statistics\n",
    "predictions_df.describe()"
   ]
  },
  {
   "cell_type": "markdown",
   "metadata": {},
   "source": [
    "## EDA"
   ]
  },
  {
   "cell_type": "markdown",
   "metadata": {},
   "source": [
    "### Distrebution of total price"
   ]
  },
  {
   "cell_type": "code",
   "execution_count": null,
   "metadata": {},
   "outputs": [],
   "source": [
    "sns.distplot(predictions_df['total_price'], bins=10)\n"
   ]
  },
  {
   "cell_type": "markdown",
   "metadata": {},
   "source": [
    "### Revenue by country"
   ]
  },
  {
   "cell_type": "code",
   "execution_count": null,
   "metadata": {},
   "outputs": [],
   "source": [
    "plt.figure(figsize=(12, 6))\n",
    "predictions_df.groupby('country')['y_pred'].mean().plot(kind='bar')\n",
    "plt.title('Average Predictions by Country')\n",
    "plt.xlabel('Country')\n",
    "plt.ylabel('Average Prediction')\n",
    "plt.show()\n"
   ]
  },
  {
   "cell_type": "code",
   "execution_count": null,
   "metadata": {},
   "outputs": [],
   "source": [
    "sns.catplot(x='country', y='revenue', data=revenue_by_country[:5], kind='bar')\n",
    "plt.show()"
   ]
  },
  {
   "cell_type": "markdown",
   "metadata": {},
   "source": [
    "### Predictions over time"
   ]
  },
  {
   "cell_type": "code",
   "execution_count": null,
   "metadata": {},
   "outputs": [],
   "source": [
    "# Plot predictions over time\n",
    "predictions_df['date'] = pd.to_datetime(predictions_df['date'])\n",
    "plt.figure(figsize=(12, 6))\n",
    "predictions_df.groupby('date')['y_pred'].mean().plot()\n",
    "plt.title('Predictions Over Time')\n",
    "plt.xlabel('Date')\n",
    "plt.ylabel('Average Prediction')\n",
    "plt.show()"
   ]
  },
  {
   "cell_type": "markdown",
   "metadata": {},
   "source": [
    "### Correlation Analysis"
   ]
  },
  {
   "cell_type": "code",
   "execution_count": null,
   "metadata": {},
   "outputs": [],
   "source": [
    "# Correlation Analysis\n",
    "correlation_matrix = predictions_df[['country', 'total_price','y_pred']].corr()\n",
    "plt.figure(figsize=(10, 8))\n",
    "sns.heatmap(correlation_matrix, annot=True, cmap='coolwarm')\n",
    "plt.title('Correlation Matrix')\n",
    "plt.show()"
   ]
  },
  {
   "cell_type": "markdown",
   "metadata": {},
   "source": [
    "## Convert Notebook to HTML Report"
   ]
  },
  {
   "cell_type": "code",
   "execution_count": null,
   "metadata": {},
   "outputs": [],
   "source": [
    "# Convert the notebook to an HTML report\n",
    "!jupyter nbconvert batch_prediction_and_eda.ipynb --to slides --no-input --post serve"
   ]
  }
 ],
 "metadata": {
  "kernelspec": {
   "display_name": "Python 3",
   "language": "python",
   "name": "python3"
  },
  "language_info": {
   "codemirror_mode": {
    "name": "ipython",
    "version": 3
   },
   "file_extension": ".py",
   "mimetype": "text/x-python",
   "name": "python",
   "nbconvert_exporter": "python",
   "pygments_lexer": "ipython3",
   "version": "3.10.13"
  }
 },
 "nbformat": 4,
 "nbformat_minor": 2
}
